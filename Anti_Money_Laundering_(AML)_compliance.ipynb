{
  "nbformat": 4,
  "nbformat_minor": 0,
  "metadata": {
    "colab": {
      "provenance": []
    },
    "kernelspec": {
      "name": "python3",
      "display_name": "Python 3"
    },
    "language_info": {
      "name": "python"
    }
  },
  "cells": [
    {
      "cell_type": "code",
      "execution_count": 2,
      "metadata": {
        "colab": {
          "base_uri": "https://localhost:8080/",
          "height": 0
        },
        "id": "JZgJwJICJszV",
        "outputId": "c0c8baf4-544f-4aae-b68b-04f3c6d0b62a"
      },
      "outputs": [
        {
          "output_type": "stream",
          "name": "stdout",
          "text": [
            "Requirement already satisfied: pandas in /usr/local/lib/python3.10/dist-packages (2.1.4)\n",
            "Requirement already satisfied: numpy<2,>=1.22.4 in /usr/local/lib/python3.10/dist-packages (from pandas) (1.26.4)\n",
            "Requirement already satisfied: python-dateutil>=2.8.2 in /usr/local/lib/python3.10/dist-packages (from pandas) (2.8.2)\n",
            "Requirement already satisfied: pytz>=2020.1 in /usr/local/lib/python3.10/dist-packages (from pandas) (2024.1)\n",
            "Requirement already satisfied: tzdata>=2022.1 in /usr/local/lib/python3.10/dist-packages (from pandas) (2024.1)\n",
            "Requirement already satisfied: six>=1.5 in /usr/local/lib/python3.10/dist-packages (from python-dateutil>=2.8.2->pandas) (1.16.0)\n"
          ]
        }
      ],
      "source": [
        "!pip install pandas\n"
      ]
    },
    {
      "cell_type": "code",
      "source": [
        "import pandas as pd\n"
      ],
      "metadata": {
        "id": "VBgWAslnKrGN"
      },
      "execution_count": 3,
      "outputs": []
    },
    {
      "cell_type": "markdown",
      "source": [
        "Transaction Monitoring"
      ],
      "metadata": {
        "id": "Sg_wd6PPMHUT"
      }
    },
    {
      "cell_type": "code",
      "source": [
        "# Sample transaction data\n",
        "data = {\n",
        "    'TransactionID': [1, 2, 3, 4, 5],\n",
        "    'CustomerID': ['C001', 'C002', 'C001', 'C003', 'C002'],\n",
        "    'Amount': [1500, 20000, 300, 50000, 1200],\n",
        "    'Date': ['2024-08-01', '2024-08-01', '2024-08-02', '2024-08-03', '2024-08-03']\n",
        "}"
      ],
      "metadata": {
        "id": "r4BLaXtUK1Fd"
      },
      "execution_count": 5,
      "outputs": []
    },
    {
      "cell_type": "code",
      "source": [
        "# Create a DataFrame\n",
        "df = pd.DataFrame(data)"
      ],
      "metadata": {
        "id": "vdUgr_NfLZkk"
      },
      "execution_count": 6,
      "outputs": []
    },
    {
      "cell_type": "code",
      "source": [
        "# Define the threshold for suspicious activity\n",
        "threshold = 10000"
      ],
      "metadata": {
        "id": "m7e7HZMOLgfR"
      },
      "execution_count": 7,
      "outputs": []
    },
    {
      "cell_type": "code",
      "source": [
        "# Identify suspicious transactions\n",
        "df['Suspicious'] = df['Amount'] > threshold"
      ],
      "metadata": {
        "id": "uBJfjNGULimq"
      },
      "execution_count": 8,
      "outputs": []
    },
    {
      "cell_type": "code",
      "source": [
        "# Print suspicious transactions\n",
        "suspicious_transactions = df[df['Suspicious']]\n",
        "print(\"Suspicious Transactions:\")\n",
        "print(suspicious_transactions)"
      ],
      "metadata": {
        "colab": {
          "base_uri": "https://localhost:8080/",
          "height": 0
        },
        "id": "wZ6aJyzTLkzJ",
        "outputId": "6951fcb3-cccd-4fdc-c7ad-90e54ec1ffd8"
      },
      "execution_count": 9,
      "outputs": [
        {
          "output_type": "stream",
          "name": "stdout",
          "text": [
            "Suspicious Transactions:\n",
            "   TransactionID CustomerID  Amount        Date  Suspicious\n",
            "1              2       C002   20000  2024-08-01        True\n",
            "3              4       C003   50000  2024-08-03        True\n"
          ]
        }
      ]
    },
    {
      "cell_type": "markdown",
      "source": [
        " KYC Verification"
      ],
      "metadata": {
        "id": "__o69kJTLuXp"
      }
    },
    {
      "cell_type": "code",
      "source": [
        "# Sample customer data\n",
        "customers = {\n",
        "    'CustomerID': ['C001', 'C002', 'C003'],\n",
        "    'Name': ['John Doe', 'Jane Smith', 'Emily Davis'],\n",
        "    'DocumentVerified': [True, False, True]\n",
        "}\n"
      ],
      "metadata": {
        "id": "rgRYf7KmLnX5"
      },
      "execution_count": 10,
      "outputs": []
    },
    {
      "cell_type": "code",
      "source": [
        "# Create a DataFrame\n",
        "customer_df = pd.DataFrame(customers)"
      ],
      "metadata": {
        "id": "DHiM81gfLzFf"
      },
      "execution_count": 11,
      "outputs": []
    },
    {
      "cell_type": "code",
      "source": [
        "# Function to verify KYC status\n",
        "def check_kyc(customer_id):\n",
        "    customer = customer_df[customer_df['CustomerID'] == customer_id]\n",
        "    if customer.empty:\n",
        "        return \"Customer not found.\"\n",
        "    elif customer['DocumentVerified'].values[0]:\n",
        "        return \"KYC Verified.\"\n",
        "    else:\n",
        "        return \"KYC Pending.\""
      ],
      "metadata": {
        "id": "EqFSOlK-L1i4"
      },
      "execution_count": 12,
      "outputs": []
    },
    {
      "cell_type": "code",
      "source": [
        "# Example usage\n",
        "customer_id = 'C001'\n",
        "print(f\"Customer {customer_id} KYC Status: {check_kyc(customer_id)}\")"
      ],
      "metadata": {
        "colab": {
          "base_uri": "https://localhost:8080/",
          "height": 0
        },
        "id": "jF-_opl2L5cr",
        "outputId": "38de7c87-7ff8-4348-ab00-640247e7f0bd"
      },
      "execution_count": 14,
      "outputs": [
        {
          "output_type": "stream",
          "name": "stdout",
          "text": [
            "Customer C001 KYC Status: KYC Verified.\n"
          ]
        }
      ]
    },
    {
      "cell_type": "code",
      "source": [
        "# Export suspicious transactions to a CSV file\n",
        "suspicious_transactions.to_csv('/content/suspicious_transactions_report.csv', index=False)\n",
        "print(\"Report generated successfully.\")\n"
      ],
      "metadata": {
        "colab": {
          "base_uri": "https://localhost:8080/",
          "height": 0
        },
        "id": "e8Xd61WQL8qG",
        "outputId": "1d9174fa-f84e-4123-8d88-5426637fa3d2"
      },
      "execution_count": 15,
      "outputs": [
        {
          "output_type": "stream",
          "name": "stdout",
          "text": [
            "Report generated successfully.\n"
          ]
        }
      ]
    },
    {
      "cell_type": "code",
      "source": [],
      "metadata": {
        "id": "ZGTzZe-sMRBz"
      },
      "execution_count": null,
      "outputs": []
    }
  ]
}